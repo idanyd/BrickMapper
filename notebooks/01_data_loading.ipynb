{
 "cells": [
  {
   "cell_type": "markdown",
   "metadata": {},
   "source": [
    "# LEGO Instruction Manual Analysis - Data Loading\n",
    "\n",
    "This notebook demonstrates the process of loading and validating LEGO instruction manual data into our database.\n",
    "\n",
    "## Project Overview\n",
    "- **Goal**: Develop a machine learning model to identify LEGO pieces in instruction manuals\n",
    "- **Current Phase**: Data Infrastructure (Sprint 1)\n",
    "- **Task**: Set up database tables and load initial data"
   ]
  },
  {
   "cell_type": "code",
   "execution_count": 1,
   "metadata": {},
   "outputs": [],
   "source": [
    "import os\n",
    "from dotenv import load_dotenv\n",
    "from pathlib import Path\n",
    "from src.data_loader import LegoDataLoader\n",
    "\n",
    "# Load environment variables\n",
    "load_dotenv()\n",
    "\n",
    "# Database connection string\n",
    "db_url = os.getenv('DATABASE_URL')"
   ]
  },
  {
   "cell_type": "code",
   "execution_count": 2,
   "metadata": {},
   "outputs": [
    {
     "data": {
      "text/plain": [
       "'sqlite:///C:\\\\Users\\\\idany\\\\OneDrive\\\\Documents\\\\Projects\\\\BrickMapper\\\\data\\\\brickmapper.db'"
      ]
     },
     "execution_count": 2,
     "metadata": {},
     "output_type": "execute_result"
    }
   ],
   "source": [
    "db_url"
   ]
  },
  {
   "cell_type": "markdown",
   "metadata": {},
   "source": [
    "## Initialize Data Loader\n",
    "Create an instance of our data loader class and set up the database tables."
   ]
  },
  {
   "cell_type": "code",
   "execution_count": 3,
   "metadata": {},
   "outputs": [
    {
     "name": "stderr",
     "output_type": "stream",
     "text": [
      "2025-01-09 00:23:37,653 - INFO - Created tables and indexes\n"
     ]
    }
   ],
   "source": [
    "# Initialize loader\n",
    "loader = LegoDataLoader(db_url)\n",
    "\n",
    "# Create tables\n",
    "loader.create_tables()"
   ]
  },
  {
   "cell_type": "markdown",
   "metadata": {},
   "source": [
    "## Load Data\n",
    "Load the step and element data from our CSV files."
   ]
  },
  {
   "cell_type": "code",
   "execution_count": 4,
   "metadata": {},
   "outputs": [
    {
     "name": "stderr",
     "output_type": "stream",
     "text": [
      "2025-01-05 21:22:28,174 - INFO - Successfully loaded 0 steps and 0 elements\n"
     ]
    }
   ],
   "source": [
    "# Define paths to CSV files\n",
    "data_dir = Path('../data')\n",
    "steps_csv = data_dir / 'set_steps.csv'\n",
    "elements_csv = data_dir / 'step_elements.csv'\n",
    "\n",
    "# Load data\n",
    "loader.load_data(steps_csv, elements_csv)"
   ]
  },
  {
   "cell_type": "markdown",
   "metadata": {},
   "source": [
    "## Verify Data Loading\n",
    "Let's check that our data was loaded correctly by querying the new tables."
   ]
  },
  {
   "cell_type": "code",
   "execution_count": 6,
   "metadata": {},
   "outputs": [
    {
     "name": "stdout",
     "output_type": "stream",
     "text": [
      "Sample from set_steps table:\n"
     ]
    },
    {
     "data": {
      "text/html": [
       "<div>\n",
       "<style scoped>\n",
       "    .dataframe tbody tr th:only-of-type {\n",
       "        vertical-align: middle;\n",
       "    }\n",
       "\n",
       "    .dataframe tbody tr th {\n",
       "        vertical-align: top;\n",
       "    }\n",
       "\n",
       "    .dataframe thead th {\n",
       "        text-align: right;\n",
       "    }\n",
       "</style>\n",
       "<table border=\"1\" class=\"dataframe\">\n",
       "  <thead>\n",
       "    <tr style=\"text-align: right;\">\n",
       "      <th></th>\n",
       "      <th>inventory_id</th>\n",
       "      <th>booklet_number</th>\n",
       "      <th>step_number</th>\n",
       "      <th>page_number</th>\n",
       "    </tr>\n",
       "  </thead>\n",
       "  <tbody>\n",
       "  </tbody>\n",
       "</table>\n",
       "</div>"
      ],
      "text/plain": [
       "Empty DataFrame\n",
       "Columns: [inventory_id, booklet_number, step_number, page_number]\n",
       "Index: []"
      ]
     },
     "metadata": {},
     "output_type": "display_data"
    },
    {
     "name": "stdout",
     "output_type": "stream",
     "text": [
      "\n",
      "Sample from step_elements table:\n"
     ]
    },
    {
     "data": {
      "text/html": [
       "<div>\n",
       "<style scoped>\n",
       "    .dataframe tbody tr th:only-of-type {\n",
       "        vertical-align: middle;\n",
       "    }\n",
       "\n",
       "    .dataframe tbody tr th {\n",
       "        vertical-align: top;\n",
       "    }\n",
       "\n",
       "    .dataframe thead th {\n",
       "        text-align: right;\n",
       "    }\n",
       "</style>\n",
       "<table border=\"1\" class=\"dataframe\">\n",
       "  <thead>\n",
       "    <tr style=\"text-align: right;\">\n",
       "      <th></th>\n",
       "      <th>inventory_id</th>\n",
       "      <th>booklet_number</th>\n",
       "      <th>step_number</th>\n",
       "      <th>element_id</th>\n",
       "      <th>quantity</th>\n",
       "    </tr>\n",
       "  </thead>\n",
       "  <tbody>\n",
       "  </tbody>\n",
       "</table>\n",
       "</div>"
      ],
      "text/plain": [
       "Empty DataFrame\n",
       "Columns: [inventory_id, booklet_number, step_number, element_id, quantity]\n",
       "Index: []"
      ]
     },
     "metadata": {},
     "output_type": "display_data"
    }
   ],
   "source": [
    "import pandas as pd\n",
    "from sqlalchemy import create_engine\n",
    "\n",
    "# Create engine\n",
    "engine = create_engine(db_url)\n",
    "\n",
    "# Query and display sample data\n",
    "with engine.connect() as conn:\n",
    "    # Check set_steps table\n",
    "    steps_query = \"SELECT * FROM set_steps LIMIT 5\"\n",
    "    steps_sample = pd.read_sql(steps_query, conn)\n",
    "    \n",
    "    # Check step_elements table\n",
    "    elements_query = \"SELECT * FROM step_elements LIMIT 5\"\n",
    "    elements_sample = pd.read_sql(elements_query, conn)\n",
    "\n",
    "print(\"Sample from set_steps table:\")\n",
    "display(steps_sample)\n",
    "\n",
    "print(\"\\nSample from step_elements table:\")\n",
    "display(elements_sample)"
   ]
  },
  {
   "cell_type": "code",
   "execution_count": null,
   "metadata": {},
   "outputs": [],
   "source": []
  }
 ],
 "metadata": {
  "kernelspec": {
   "display_name": "brickmapper",
   "language": "python",
   "name": "python3"
  },
  "language_info": {
   "codemirror_mode": {
    "name": "ipython",
    "version": 3
   },
   "file_extension": ".py",
   "mimetype": "text/x-python",
   "name": "python",
   "nbconvert_exporter": "python",
   "pygments_lexer": "ipython3",
   "version": "3.12.8"
  }
 },
 "nbformat": 4,
 "nbformat_minor": 4
}
