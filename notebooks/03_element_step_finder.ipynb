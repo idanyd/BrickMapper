{
 "cells": [
  {
   "cell_type": "markdown",
   "metadata": {},
   "source": [
    "# LEGO Element Step Finder\n",
    "This notebook allows you to find all steps where a specific LEGO element appears across all sets.\n",
    "\n",
    "## Setup and Usage\n",
    "1. Make sure your DATABASE_URL environment variable is set\n",
    "2. Enter an element ID in the input field below\n",
    "3. Run the cell to see all steps where this element appears\n",
    "\n",
    "## Imports"
   ]
  },
  {
   "cell_type": "code",
   "execution_count": 1,
   "metadata": {},
   "outputs": [],
   "source": [
    "import os\n",
    "import sqlite3\n",
    "import pandas as pd\n",
    "from sqlalchemy import create_engine, inspect\n",
    "from IPython.display import display\n",
    "from pathlib import Path\n",
    "import sys\n",
    "\n",
    "# Interactive element search\n",
    "from ipywidgets import widgets\n",
    "from IPython.display import display, clear_output\n",
    "\n",
    "# Get the absolute path of the current directory\n",
    "current_dir = Path().resolve()\n",
    "# If we're in the notebooks or src directory, move up one level\n",
    "# to the project root directory\n",
    "project_root = current_dir.parent if current_dir.name in ['notebooks', 'src'] else current_dir\n",
    "# Add the project root directory to Python's path\n",
    "if str(project_root) not in sys.path:\n",
    "    sys.path.append(str(project_root))\n",
    "# Add /src to Python's path\n",
    "src_dir = project_root / 'src'\n",
    "if str(src_dir) not in sys.path:\n",
    "    sys.path.append(str(src_dir))\n",
    "\n",
    "# Change the current working directory\n",
    "os.chdir(project_root)"
   ]
  },
  {
   "cell_type": "code",
   "execution_count": 6,
   "metadata": {},
   "outputs": [],
   "source": [
    "def get_steps_by_element_id(element_id, db_url=None):\n",
    "    \"\"\"\n",
    "    Get all steps where a specific LEGO element appears.\n",
    "    \n",
    "    Args:\n",
    "        element_id (str): The element ID to search for\n",
    "        db_url (str, optional): Database URL. If None, uses DATABASE_URL env variable\n",
    "        \n",
    "    Returns:\n",
    "        dict: Dictionary with set numbers as keys and lists of step information as values\n",
    "    \"\"\"\n",
    "    if db_url is None:\n",
    "        db_url = os.environ.get('DATABASE_URL')\n",
    "        if not db_url:\n",
    "            raise ValueError(\"No database URL provided and DATABASE_URL env variable not set\")\n",
    "    \n",
    "    # Create engine based on URL type\n",
    "    if db_url.startswith('sqlite:'):\n",
    "        engine = create_engine(db_url)\n",
    "    else:\n",
    "        # For demonstration, assuming SQLite\n",
    "        conn = sqlite3.connect(db_url)\n",
    "    \n",
    "    # SQL query to get all steps for a specific element\n",
    "    query = \"\"\"\n",
    "    SELECT \n",
    "        s.set_num,\n",
    "        ss.booklet_number,\n",
    "        ss.page_number,\n",
    "        ss.step_number\n",
    "    FROM \n",
    "        step_elements se\n",
    "    JOIN \n",
    "        set_steps ss ON se.step_id = ss.step_id\n",
    "    JOIN \n",
    "        inventories i ON ss.inventory_id = i.id\n",
    "    JOIN \n",
    "        sets s ON i.set_num = s.set_num\n",
    "    WHERE \n",
    "        se.element_id = :element_id\n",
    "    ORDER BY \n",
    "        s.set_num, \n",
    "        ss.booklet_number, \n",
    "        ss.page_number, \n",
    "        ss.step_number\n",
    "    \"\"\"\n",
    "    \n",
    "    try:\n",
    "        # Execute query\n",
    "        if 'engine' in locals():\n",
    "            df = pd.read_sql_query(query, engine, params={\"element_id\": element_id})\n",
    "        else:\n",
    "            df = pd.read_sql_query(query, conn, params={\"element_id\": element_id})\n",
    "        \n",
    "        return df\n",
    "    \n",
    "    except Exception as e:\n",
    "        print(f\"Error executing query: {e}\")\n",
    "        return {}\n",
    "    finally:\n",
    "        if 'conn' in locals():\n",
    "            conn.close()\n",
    "        if 'engine' in locals():\n",
    "            engine.dispose()"
   ]
  },
  {
   "cell_type": "code",
   "execution_count": 12,
   "metadata": {},
   "outputs": [
    {
     "name": "stdout",
     "output_type": "stream",
     "text": [
      "Searching for element ID: 302421\n",
      "Found steps in 1 set(s):\n"
     ]
    },
    {
     "data": {
      "application/vnd.microsoft.datawrangler.viewer.v0+json": {
       "columns": [
        {
         "name": "index",
         "rawType": "int64",
         "type": "integer"
        },
        {
         "name": "set_num",
         "rawType": "object",
         "type": "string"
        },
        {
         "name": "booklet_number",
         "rawType": "int64",
         "type": "integer"
        },
        {
         "name": "page_number",
         "rawType": "int64",
         "type": "integer"
        },
        {
         "name": "step_number",
         "rawType": "int64",
         "type": "integer"
        }
       ],
       "conversionMethod": "pd.DataFrame",
       "ref": "397f4e80-5db6-4ae0-832b-a18508ef995c",
       "rows": [
        [
         "0",
         "31147-1",
         "1",
         "16",
         "18"
        ],
        [
         "1",
         "31147-1",
         "1",
         "25",
         "26"
        ],
        [
         "2",
         "31147-1",
         "1",
         "30",
         "31"
        ],
        [
         "3",
         "31147-1",
         "2",
         "9",
         "12"
        ],
        [
         "4",
         "31147-1",
         "2",
         "15",
         "19"
        ],
        [
         "5",
         "31147-1",
         "2",
         "16",
         "20"
        ],
        [
         "6",
         "31147-1",
         "3",
         "4",
         "4"
        ],
        [
         "7",
         "31147-1",
         "3",
         "17",
         "14"
        ]
       ],
       "shape": {
        "columns": 4,
        "rows": 8
       }
      },
      "text/html": [
       "<div>\n",
       "<style scoped>\n",
       "    .dataframe tbody tr th:only-of-type {\n",
       "        vertical-align: middle;\n",
       "    }\n",
       "\n",
       "    .dataframe tbody tr th {\n",
       "        vertical-align: top;\n",
       "    }\n",
       "\n",
       "    .dataframe thead th {\n",
       "        text-align: right;\n",
       "    }\n",
       "</style>\n",
       "<table border=\"1\" class=\"dataframe\">\n",
       "  <thead>\n",
       "    <tr style=\"text-align: right;\">\n",
       "      <th></th>\n",
       "      <th>set_num</th>\n",
       "      <th>booklet_number</th>\n",
       "      <th>page_number</th>\n",
       "      <th>step_number</th>\n",
       "    </tr>\n",
       "  </thead>\n",
       "  <tbody>\n",
       "    <tr>\n",
       "      <th>0</th>\n",
       "      <td>31147-1</td>\n",
       "      <td>1</td>\n",
       "      <td>16</td>\n",
       "      <td>18</td>\n",
       "    </tr>\n",
       "    <tr>\n",
       "      <th>1</th>\n",
       "      <td>31147-1</td>\n",
       "      <td>1</td>\n",
       "      <td>25</td>\n",
       "      <td>26</td>\n",
       "    </tr>\n",
       "    <tr>\n",
       "      <th>2</th>\n",
       "      <td>31147-1</td>\n",
       "      <td>1</td>\n",
       "      <td>30</td>\n",
       "      <td>31</td>\n",
       "    </tr>\n",
       "    <tr>\n",
       "      <th>3</th>\n",
       "      <td>31147-1</td>\n",
       "      <td>2</td>\n",
       "      <td>9</td>\n",
       "      <td>12</td>\n",
       "    </tr>\n",
       "    <tr>\n",
       "      <th>4</th>\n",
       "      <td>31147-1</td>\n",
       "      <td>2</td>\n",
       "      <td>15</td>\n",
       "      <td>19</td>\n",
       "    </tr>\n",
       "    <tr>\n",
       "      <th>5</th>\n",
       "      <td>31147-1</td>\n",
       "      <td>2</td>\n",
       "      <td>16</td>\n",
       "      <td>20</td>\n",
       "    </tr>\n",
       "    <tr>\n",
       "      <th>6</th>\n",
       "      <td>31147-1</td>\n",
       "      <td>3</td>\n",
       "      <td>4</td>\n",
       "      <td>4</td>\n",
       "    </tr>\n",
       "    <tr>\n",
       "      <th>7</th>\n",
       "      <td>31147-1</td>\n",
       "      <td>3</td>\n",
       "      <td>17</td>\n",
       "      <td>14</td>\n",
       "    </tr>\n",
       "  </tbody>\n",
       "</table>\n",
       "</div>"
      ],
      "text/plain": [
       "   set_num  booklet_number  page_number  step_number\n",
       "0  31147-1               1           16           18\n",
       "1  31147-1               1           25           26\n",
       "2  31147-1               1           30           31\n",
       "3  31147-1               2            9           12\n",
       "4  31147-1               2           15           19\n",
       "5  31147-1               2           16           20\n",
       "6  31147-1               3            4            4\n",
       "7  31147-1               3           17           14"
      ]
     },
     "metadata": {},
     "output_type": "display_data"
    }
   ],
   "source": [
    "def search_element(element_id):\n",
    "    \n",
    "    db_url = \"sqlite:///test_db.db\"\n",
    "\n",
    "    print(f\"Searching for element ID: {element_id}\")\n",
    "    df = get_steps_by_element_id(element_id, db_url)\n",
    "    \n",
    "    if df.empty:\n",
    "        print(\"No steps found for this element ID\")\n",
    "        return\n",
    "    \n",
    "    sets = df['set_num'].unique()\n",
    "    print(f\"Found steps in {len(df['set_num'].unique())} set(s):\")\n",
    "    for s in sets:\n",
    "        display(df[df['set_num'] == s])\n",
    "\n",
    "search_element('302421')"
   ]
  },
  {
   "cell_type": "code",
   "execution_count": 15,
   "metadata": {},
   "outputs": [
    {
     "name": "stdout",
     "output_type": "stream",
     "text": [
      "Testing with element ID: 302421\n",
      "Using DB URL: sqlite:///test_db.db\n",
      "Found the following tables:  ['set_steps', 'step_elements']\n",
      "Query executed successfully\n",
      "Found 2 rows\n",
      "   step_id element_id\n",
      "0        7     302421\n",
      "1       12     302421\n"
     ]
    },
    {
     "data": {
      "text/plain": [
       "True"
      ]
     },
     "execution_count": 15,
     "metadata": {},
     "output_type": "execute_result"
    }
   ],
   "source": [
    "def debug_search(element_id):\n",
    "    print(f\"Testing with element ID: {element_id}\")\n",
    "\n",
    "    try:\n",
    "        # For debugging\n",
    "        db_url = \"sqlite:///test_db.db\"\n",
    "        #db_url = os.environ.get('DATABASE_URL')\n",
    "        print(f\"Using DB URL: {db_url}\")\n",
    "\n",
    "        # Create engine based on URL type\n",
    "        if db_url.startswith('sqlite:'):\n",
    "            engine = create_engine(db_url)\n",
    "            inspector = inspect(engine)\n",
    "            # Get all table names\n",
    "            tables = inspector.get_table_names()\n",
    "\n",
    "            # For SQLAlchemy, parameters need to be passed differently\n",
    "            print(\"Found the following tables: \", tables)\n",
    "\n",
    "            df = pd.read_sql_query(\n",
    "                \"SELECT * FROM step_elements WHERE element_id = :element_id LIMIT 5\",\n",
    "                engine,\n",
    "                params={\"element_id\": element_id}\n",
    "            )\n",
    "        else:\n",
    "            conn = sqlite3.connect(db_url)\n",
    "            # For sqlite3 connection, parameters can be passed as a list\n",
    "            df = pd.read_sql_query(\n",
    "                \"SELECT * FROM step_elements WHERE element_id = ? LIMIT 5\",\n",
    "                conn,\n",
    "                params=(element_id,)  # Note the comma to make it a tuple\n",
    "            )\n",
    "\n",
    "        print(\"Query executed successfully\")\n",
    "        print(f\"Found {len(df)} rows\")\n",
    "        print(df.head())\n",
    "\n",
    "        # Continue with the full query if the simple one works\n",
    "        return True\n",
    "    except Exception as e:\n",
    "        print(f\"Error: {e}\")\n",
    "        import traceback\n",
    "        traceback.print_exc()\n",
    "        return False\n",
    "\n",
    "debug_search(\"302421\")"
   ]
  }
 ],
 "metadata": {
  "kernelspec": {
   "display_name": "brickmapper",
   "language": "python",
   "name": "python3"
  },
  "language_info": {
   "codemirror_mode": {
    "name": "ipython",
    "version": 3
   },
   "file_extension": ".py",
   "mimetype": "text/x-python",
   "name": "python",
   "nbconvert_exporter": "python",
   "pygments_lexer": "ipython3",
   "version": "3.12.8"
  }
 },
 "nbformat": 4,
 "nbformat_minor": 4
}
